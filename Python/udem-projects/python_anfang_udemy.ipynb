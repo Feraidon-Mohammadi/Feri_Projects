{
 "cells": [
  {
   "cell_type": "code",
   "execution_count": 2,
   "id": "4f765c31",
   "metadata": {},
   "outputs": [
    {
     "name": "stdout",
     "output_type": "stream",
     "text": [
      "5\n"
     ]
    }
   ],
   "source": [
    "print(5)"
   ]
  },
  {
   "cell_type": "code",
   "execution_count": 4,
   "id": "ebe3f1b8",
   "metadata": {},
   "outputs": [
    {
     "name": "stdout",
     "output_type": "stream",
     "text": [
      "5\n",
      "6\n"
     ]
    }
   ],
   "source": [
    "print(5)\n",
    "print(6)"
   ]
  },
  {
   "cell_type": "code",
   "execution_count": 5,
   "id": "ef6bab4f",
   "metadata": {},
   "outputs": [
    {
     "name": "stdout",
     "output_type": "stream",
     "text": [
      "9\n",
      "1\n",
      "20\n",
      "1.25\n"
     ]
    }
   ],
   "source": [
    "print(5 + 4)\n",
    "print(5 - 4)\n",
    "print(5 * 4)\n",
    "print(5 / 4)"
   ]
  },
  {
   "cell_type": "code",
   "execution_count": 8,
   "id": "8f50c33b",
   "metadata": {},
   "outputs": [
    {
     "name": "stdout",
     "output_type": "stream",
     "text": [
      "27\n"
     ]
    }
   ],
   "source": [
    "print((5 + 4) * 3)"
   ]
  },
  {
   "cell_type": "code",
   "execution_count": 9,
   "id": "51cbce90",
   "metadata": {},
   "outputs": [
    {
     "name": "stdout",
     "output_type": "stream",
     "text": [
      "1.25\n"
     ]
    }
   ],
   "source": [
    "print(1.25)"
   ]
  },
  {
   "cell_type": "code",
   "execution_count": 10,
   "id": "1f33c002",
   "metadata": {},
   "outputs": [
    {
     "name": "stdout",
     "output_type": "stream",
     "text": [
      "3\n"
     ]
    }
   ],
   "source": [
    "print(1 + 2)"
   ]
  },
  {
   "cell_type": "code",
   "execution_count": 52,
   "id": "0afd8daa",
   "metadata": {},
   "outputs": [
    {
     "name": "stdout",
     "output_type": "stream",
     "text": [
      "19.5\n"
     ]
    }
   ],
   "source": [
    "# das Durschnittsalter berechenen\n",
    "\n",
    "age1 = 21\n",
    "age2 = 18\n",
    "print((age1 + age2) / 2)"
   ]
  },
  {
   "cell_type": "markdown",
   "id": "ef127290",
   "metadata": {},
   "source": [
    "## lection 2 "
   ]
  },
  {
   "cell_type": "code",
   "execution_count": 53,
   "id": "e5ef1767",
   "metadata": {},
   "outputs": [
    {
     "name": "stdout",
     "output_type": "stream",
     "text": [
      "11\n"
     ]
    }
   ],
   "source": [
    "a = 5 + 6\n",
    "\n",
    "print (a)"
   ]
  },
  {
   "cell_type": "code",
   "execution_count": 16,
   "id": "3edef639",
   "metadata": {},
   "outputs": [
    {
     "name": "stdout",
     "output_type": "stream",
     "text": [
      "19.5\n"
     ]
    }
   ],
   "source": [
    "age = 21 \n",
    "age2 = 18\n",
    "print((age + age2) /2)"
   ]
  },
  {
   "cell_type": "code",
   "execution_count": 54,
   "id": "370de30a",
   "metadata": {},
   "outputs": [
    {
     "name": "stdout",
     "output_type": "stream",
     "text": [
      "19.5\n"
     ]
    }
   ],
   "source": [
    "# durschnitsalter rechnen \n",
    "\n",
    "average_age = (age + age2) /2\n",
    "\n",
    "print(average_age)"
   ]
  },
  {
   "cell_type": "markdown",
   "id": "fc4fe167",
   "metadata": {},
   "source": [
    "## lection 3"
   ]
  },
  {
   "cell_type": "code",
   "execution_count": 20,
   "id": "45ae2b65",
   "metadata": {},
   "outputs": [
    {
     "name": "stdout",
     "output_type": "stream",
     "text": [
      "hallo welt\n"
     ]
    }
   ],
   "source": [
    "print(\"hallo welt\")"
   ]
  },
  {
   "cell_type": "code",
   "execution_count": 21,
   "id": "bf93f5f2",
   "metadata": {},
   "outputs": [
    {
     "name": "stdout",
     "output_type": "stream",
     "text": [
      "ich bin: Max\n"
     ]
    }
   ],
   "source": [
    "name = \"Max\"\n",
    "print(\"ich bin: \" + name)"
   ]
  },
  {
   "cell_type": "code",
   "execution_count": 24,
   "id": "85127768",
   "metadata": {},
   "outputs": [
    {
     "name": "stdout",
     "output_type": "stream",
     "text": [
      "ich bin : 4\n"
     ]
    }
   ],
   "source": [
    "print(\"ich bin : \" + \"4\")"
   ]
  },
  {
   "cell_type": "code",
   "execution_count": 26,
   "id": "486c6908",
   "metadata": {},
   "outputs": [
    {
     "name": "stdout",
     "output_type": "stream",
     "text": [
      "ich bin: 22\n"
     ]
    }
   ],
   "source": [
    "age = \"22\" \n",
    "print(\"ich bin: \" + age)"
   ]
  },
  {
   "cell_type": "code",
   "execution_count": 27,
   "id": "1bd9dc18",
   "metadata": {},
   "outputs": [
    {
     "name": "stdout",
     "output_type": "stream",
     "text": [
      "ich bin: 22\n"
     ]
    }
   ],
   "source": [
    "age = 22\n",
    "print(\"ich bin: \" + str(age))"
   ]
  },
  {
   "cell_type": "code",
   "execution_count": 28,
   "id": "ff0ed2bc",
   "metadata": {},
   "outputs": [
    {
     "name": "stdout",
     "output_type": "stream",
     "text": [
      "Hallo Welt\n"
     ]
    }
   ],
   "source": [
    "v = \"Hallo Welt\"\n",
    "print(v)\n"
   ]
  },
  {
   "cell_type": "markdown",
   "id": "0941b607",
   "metadata": {},
   "source": [
    "یک اعدد نمیتونه  با یک استرینگ بیاد داخل ()  "
   ]
  },
  {
   "cell_type": "code",
   "execution_count": 4,
   "id": "002da71d",
   "metadata": {},
   "outputs": [],
   "source": [
    "student1 = \"Max\"\n",
    "student2 = \"Monika\"\n",
    "student3 = \"Erik\"\n",
    "student4 = \"Franziska\""
   ]
  },
  {
   "cell_type": "code",
   "execution_count": 11,
   "id": "4ce81a9f",
   "metadata": {},
   "outputs": [],
   "source": [
    "students =['Max', \"Monika\", \"Erik\" , \"Franziska\"]"
   ]
  },
  {
   "cell_type": "code",
   "execution_count": 12,
   "id": "013bd0f0",
   "metadata": {},
   "outputs": [
    {
     "name": "stdout",
     "output_type": "stream",
     "text": [
      "['Max', 'Monika', 'Erik', 'Franziska']\n"
     ]
    }
   ],
   "source": [
    "print(students)"
   ]
  },
  {
   "cell_type": "code",
   "execution_count": 15,
   "id": "0e3d1c85",
   "metadata": {},
   "outputs": [],
   "source": [
    "students.append(\"Feri\")"
   ]
  },
  {
   "cell_type": "markdown",
   "id": "d04ad98a",
   "metadata": {},
   "source": [
    "append hinzufügen noch einer person  oder noch mehrer"
   ]
  },
  {
   "cell_type": "code",
   "execution_count": 16,
   "id": "aa2490e0",
   "metadata": {},
   "outputs": [
    {
     "name": "stdout",
     "output_type": "stream",
     "text": [
      "['Max', 'Monika', 'Erik', 'Franziska', 'Feri']\n"
     ]
    }
   ],
   "source": [
    "print(students)"
   ]
  },
  {
   "cell_type": "code",
   "execution_count": 11,
   "id": "a4f9ad35",
   "metadata": {},
   "outputs": [
    {
     "name": "stdout",
     "output_type": "stream",
     "text": [
      "6\n"
     ]
    }
   ],
   "source": [
    "print(len(students))"
   ]
  },
  {
   "cell_type": "code",
   "execution_count": 13,
   "id": "586b5cf6",
   "metadata": {},
   "outputs": [
    {
     "name": "stdout",
     "output_type": "stream",
     "text": [
      "Max\n"
     ]
    }
   ],
   "source": [
    "print(students[0])\n",
    "print(students[4])"
   ]
  },
  {
   "cell_type": "code",
   "execution_count": 19,
   "id": "68cdca8c",
   "metadata": {},
   "outputs": [
    {
     "name": "stdout",
     "output_type": "stream",
     "text": [
      "Max & Feri\n"
     ]
    }
   ],
   "source": [
    "print(students[0] + \" & \" + students[4])"
   ]
  },
  {
   "cell_type": "markdown",
   "id": "1b1f9d49",
   "metadata": {},
   "source": [
    "## Lektion 4 "
   ]
  },
  {
   "cell_type": "markdown",
   "id": "add2d6fd",
   "metadata": {},
   "source": [
    "##### Lösche letzte Element von ein liste mit (Pop function)"
   ]
  },
  {
   "cell_type": "code",
   "execution_count": 20,
   "id": "3aa7f52f",
   "metadata": {},
   "outputs": [
    {
     "name": "stdout",
     "output_type": "stream",
     "text": [
      "['merkur', 'venus', 'erde', 'mars', 'jupiter', 'saturn', 'uranus', 'neptun', 'pluto']\n"
     ]
    }
   ],
   "source": [
    "planets = [\"merkur\", \"venus\", \"erde\", \"mars\", \"jupiter\", \"saturn\", \"uranus\", \"neptun\", \"pluto\"]\n",
    "planet.pop()\n",
    "print(planets)"
   ]
  },
  {
   "cell_type": "code",
   "execution_count": 25,
   "id": "82f97bb2",
   "metadata": {},
   "outputs": [
    {
     "name": "stdout",
     "output_type": "stream",
     "text": [
      "pluto\n",
      "['merkur', 'venus', 'erde', 'mars', 'jupiter', 'saturn', 'uranus', 'neptun']\n"
     ]
    }
   ],
   "source": [
    "planets = [\"merkur\", \"venus\", \"erde\", \"mars\", \"jupiter\", \"saturn\", \"uranus\", \"neptun\", \"pluto\"]\n",
    "\n",
    "p = planets.pop()\n",
    "print(p)\n",
    "\n",
    "print(planets)"
   ]
  },
  {
   "cell_type": "code",
   "execution_count": 26,
   "id": "efccb90c",
   "metadata": {},
   "outputs": [
    {
     "name": "stdout",
     "output_type": "stream",
     "text": [
      "['merkur', 'venus', 'erde', 'mars', 'jupiter', 'saturn', 'uranus', 'neptun']\n"
     ]
    }
   ],
   "source": [
    "print(planets)"
   ]
  },
  {
   "cell_type": "markdown",
   "id": "a0e084fc",
   "metadata": {},
   "source": [
    "## lektion 5"
   ]
  },
  {
   "cell_type": "markdown",
   "id": "6ed9a7d3",
   "metadata": {},
   "source": [
    "### Daten umwandeln "
   ]
  },
  {
   "cell_type": "code",
   "execution_count": 28,
   "id": "bc5f50fc",
   "metadata": {},
   "outputs": [
    {
     "name": "stdout",
     "output_type": "stream",
     "text": [
      "11\n"
     ]
    }
   ],
   "source": [
    "a = \"5\"\n",
    "b = \"6\"\n",
    "\n",
    "print(int(a) + int(b))"
   ]
  },
  {
   "cell_type": "markdown",
   "id": "4363c335",
   "metadata": {},
   "source": [
    "#### strin -> kommazahl"
   ]
  },
  {
   "cell_type": "code",
   "execution_count": 29,
   "id": "96ef800c",
   "metadata": {},
   "outputs": [
    {
     "name": "stdout",
     "output_type": "stream",
     "text": [
      "12.1\n"
     ]
    }
   ],
   "source": [
    "a = \"5.5\"\n",
    "b = \"6.6\"\n",
    "\n",
    "print(float(a) + float(b))"
   ]
  },
  {
   "cell_type": "markdown",
   "id": "50e79eda",
   "metadata": {},
   "source": [
    "#### zahl -> string"
   ]
  },
  {
   "cell_type": "code",
   "execution_count": 31,
   "id": "44c4868c",
   "metadata": {},
   "outputs": [
    {
     "name": "stdout",
     "output_type": "stream",
     "text": [
      "ich bin 21 jahre alt\n"
     ]
    }
   ],
   "source": [
    "age = 21\n",
    "print(\"ich bin \" + str(age) + \" jahre alt\")"
   ]
  },
  {
   "cell_type": "markdown",
   "id": "3c99fd1c",
   "metadata": {},
   "source": [
    "##### Liste -> String "
   ]
  },
  {
   "cell_type": "code",
   "execution_count": 32,
   "id": "f0c83626",
   "metadata": {},
   "outputs": [
    {
     "name": "stdout",
     "output_type": "stream",
     "text": [
      "max,Monika,Erik,Franziska\n"
     ]
    }
   ],
   "source": [
    "students = [\"max\", \"Monika\", \"Erik\", \"Franziska\"]\n",
    "print(\",\".join(students))"
   ]
  },
  {
   "cell_type": "code",
   "execution_count": 34,
   "id": "02a4995f",
   "metadata": {},
   "outputs": [
    {
     "name": "stdout",
     "output_type": "stream",
     "text": [
      "An unserer Uni studieren: max, Monika, Erik, Franziska\n"
     ]
    }
   ],
   "source": [
    "students_as_string = \", \".join(students)\n",
    "print(\"An unserer Uni studieren: \" + students_as_string)"
   ]
  },
  {
   "cell_type": "markdown",
   "id": "9ca4aca9",
   "metadata": {},
   "source": [
    "#### string -> Liste"
   ]
  },
  {
   "cell_type": "code",
   "execution_count": 35,
   "id": "0467eddd",
   "metadata": {},
   "outputs": [],
   "source": [
    "i = \"max, monika, erik, franziska\""
   ]
  },
  {
   "cell_type": "code",
   "execution_count": 41,
   "id": "a67ed235",
   "metadata": {},
   "outputs": [
    {
     "name": "stdout",
     "output_type": "stream",
     "text": [
      "['max', 'monika', 'erik', 'franziska']\n"
     ]
    }
   ],
   "source": [
    "# split macht von jede bestimmte  wört   \n",
    "print(i.split(\", \"))"
   ]
  },
  {
   "cell_type": "code",
   "execution_count": 42,
   "id": "24572976",
   "metadata": {},
   "outputs": [],
   "source": [
    "s = \"Ich bin ein Satz mit vielen Wörten\""
   ]
  },
  {
   "cell_type": "code",
   "execution_count": 49,
   "id": "2df6dd6a",
   "metadata": {},
   "outputs": [
    {
     "name": "stdout",
     "output_type": "stream",
     "text": [
      "['Ich', 'bin', 'ein', 'Satz', 'mit', 'vielen', 'Wörten']\n"
     ]
    }
   ],
   "source": [
    "print(s.split(\" \"))"
   ]
  },
  {
   "cell_type": "code",
   "execution_count": 50,
   "id": "ab63b636",
   "metadata": {},
   "outputs": [
    {
     "name": "stdout",
     "output_type": "stream",
     "text": [
      "7\n"
     ]
    }
   ],
   "source": [
    "print(len(s.split(\" \")))"
   ]
  },
  {
   "cell_type": "markdown",
   "id": "8d77c50c",
   "metadata": {},
   "source": [
    "#### aufgabe A"
   ]
  },
  {
   "cell_type": "code",
   "execution_count": 56,
   "id": "2ca4cfc2",
   "metadata": {},
   "outputs": [
    {
     "name": "stdout",
     "output_type": "stream",
     "text": [
      "14.0\n"
     ]
    }
   ],
   "source": [
    "# Ein automatisierter Trick\n",
    "\n",
    "# Eine Mathemagierin bittet dich darum, einen ihrer Tricks durch ein kleines Programm zu automatisieren. Der Trick beginnt wie folgt: \n",
    "\n",
    "#1. Denke dir eine Zahl aus (Variable `number`).\n",
    "#2. Multipliziere sie mit 2.\n",
    "#3. Addiere 10 zum Ergebnis.\n",
    "#4. Teile das Ergebnis durch 2.\n",
    "\n",
    "# Führe diese Rechnung  für die Variable _number_ durch und gebe das Ergebnis aus. \n",
    "\n",
    "\n",
    "\n",
    "number = 9\n",
    "\n",
    "result = ((number * 2) + 10) / 2\n",
    "print(result)\n",
    "\n",
    "# Das Ergebnis wird nämlich noch als Kommazahl angezeigt\n",
    "\n",
    "\n",
    "\n",
    "\n",
    "\n"
   ]
  },
  {
   "cell_type": "markdown",
   "id": "6dab6951",
   "metadata": {},
   "source": [
    "#### Aufgabe B "
   ]
  },
  {
   "cell_type": "code",
   "execution_count": 58,
   "id": "b6198bdc",
   "metadata": {},
   "outputs": [
    {
     "name": "stdout",
     "output_type": "stream",
     "text": [
      "14\n"
     ]
    }
   ],
   "source": [
    "# Als sie das sieht, rümpft die Mathemagierin die Nase: Das Ergebnis wird nämlich noch als Kommazahl angezeigt. \n",
    "# Wandle das Ergebnis in eine Ganzzahl um, bevor du es ausgibst.\n",
    "\n",
    "number = 9\n",
    "result = ((number * 2) + 10) / 2\n",
    "print(int(result))\n",
    "\n",
    "\n",
    "\n",
    "\n"
   ]
  },
  {
   "cell_type": "markdown",
   "id": "60d3e2a7",
   "metadata": {},
   "source": [
    "Aufgabe C"
   ]
  },
  {
   "cell_type": "code",
   "execution_count": 115,
   "id": "62f8b5ce",
   "metadata": {},
   "outputs": [
    {
     "name": "stdout",
     "output_type": "stream",
     "text": [
      "du hast 6 ausgewählt, das magische Ergebnis ist 11!\n"
     ]
    }
   ],
   "source": [
    "#Gebe nun einen Antwortsatz der Form \n",
    "\n",
    "# \"Du hast 6 ausgewählt, das magische Ergebnis ist 11!\"\n",
    "\n",
    "# aus, wobei für die Zahl 6 die Variable `number` und für die Zahl 11 das Ergebnis (Variable `result`) eingesetzt werden soll.\n",
    "# Hinweis:** In Python darf ein `print` - Befehl wie folgt über mehrere Zeilen gehen. Das könnte praktisch sein, gerade wenn du viele Strings hintereinander hängen möchtest: \n",
    "# ```python\n",
    "\n",
    "#print(\"Hallo\" + \n",
    "#     \"Welt\")\n",
    "\n",
    "\n",
    "number = 6\n",
    "ergebnis = 11\n",
    "\n",
    "print(\"du hast \"+ \n",
    "        str(int(number)) + \n",
    "        \" ausgewählt, das magische Ergebnis ist \" +\n",
    "        str(int(ergebnis)) + \"!\")\n"
   ]
  },
  {
   "cell_type": "markdown",
   "id": "3343baba",
   "metadata": {},
   "source": [
    "#### Aufgabe 2: Zersägte E-Mail-Adressen"
   ]
  },
  {
   "cell_type": "markdown",
   "id": "b4bf0fd2",
   "metadata": {},
   "source": [
    "#### a. ) Ziehe einen Namen aus einer Mailadresse\n",
    "\n",
    "Wenn die Mailadresse _Max-Mustermann@gmail.com_ lautet, sollst du _Max-Mustermann_ ausgeben; wenn die Mailadresse _KlaraKlarnamen@uni-berlin.de_ heisst, sollst du _KlaraKlarnamen_ ausgeben.\n"
   ]
  },
  {
   "cell_type": "code",
   "execution_count": 112,
   "id": "101eb949",
   "metadata": {},
   "outputs": [
    {
     "name": "stdout",
     "output_type": "stream",
     "text": [
      "willy.wizard\n",
      "zaubaerschuler\n",
      "KlaraKlarnamen\n",
      "uni-berlin\n"
     ]
    }
   ],
   "source": [
    "# Aufgabe 2: Zersägte E-Mail-Adressen\n",
    "\n",
    "# klara  bittet dich um Hilfe bei der Betreuung von ihrem Online-Shop. \n",
    "# Sie kennt nur die Mailadressen ihrer Kunden, und du sollst anhand der Mailadressen ein vereinfachtes Verzeichnis mit ihren Namen anlegen.\n",
    "\n",
    "\n",
    "\n",
    "mail1 = \"willy.wizard@zaubaerschuler.de\"\n",
    "# vor dem @\n",
    "print( mail1.split(\"@\")[0])\n",
    "# nach dem @\n",
    "print(mail1.split(\"@\")[1].split(\".\")[0] )\n",
    "\n",
    "\n",
    "\n",
    "# die name vordem @ ausgeben\n",
    "mail = \"KlaraKlarnamen@uni-berlin.de\"\n",
    "print( mail.split(\"@\")[0])\n",
    "\n",
    "\n",
    "# die name nachdem @ ausgeben\n",
    "print(mail.split(\"@\")[1].split(\".\")[0] )\n",
    "\n"
   ]
  },
  {
   "cell_type": "markdown",
   "id": "f71e4dc4",
   "metadata": {},
   "source": [
    "#### b.) Ziehe einen Namen aus einer Mailadresse der Form info@name.com\n",
    "\n",
    "Manchmal stehen die Namen bei einer Mailadresse auch erst hinter dem @-Zeichen. Gebe auch für solche Fälle die Namen aus; entferne dabei die Endung _.com_ bzw. _.de_. Du darfst dazu voraussetzen, dass innerhalb des Namens kein Punkt vorkommt. Wenn die Mailadresse also _info@Max-Mustermann.com_ lautet, sollst du _Max-Mustermann_ ausgeben.\n",
    "\n",
    "**Hinweis:** Es ist okay, wenn du für die Berechnung mehere `.split()` - Befehle benötigst, oder ein Ergebnis zwischenspeichern möchtest. Gerne kannst du auch den Code aus der Teilaufgabe `a)` hier mitverwenden."
   ]
  },
  {
   "cell_type": "code",
   "execution_count": 92,
   "id": "e3e97cb3",
   "metadata": {},
   "outputs": [
    {
     "name": "stdout",
     "output_type": "stream",
     "text": [
      "Max-Mustermann\n"
     ]
    }
   ],
   "source": [
    "# Aufgabe 2b -  function split()\n",
    "\n",
    "mail = \"info@Max-Mustermann.com\"\n",
    "\n",
    "\n",
    "# die name nach dem @ ausgeben \n",
    "\n",
    "print(mail.split(\"@\")[1].split(\".\")[0])\n"
   ]
  },
  {
   "cell_type": "code",
   "execution_count": 97,
   "id": "32aa326b",
   "metadata": {},
   "outputs": [
    {
     "name": "stdout",
     "output_type": "stream",
     "text": [
      "info@Max Muster mann.c om\n"
     ]
    }
   ],
   "source": [
    "# Replace()  function   \n",
    "\n",
    "\n",
    " \n",
    "mail = \"info@Max-Muster-mann.c-om\"\n",
    "\n",
    "# eine space zwischen namen hinzufügen\n",
    "result1 = (print(mail.replace(\"-\", \" \")))\n"
   ]
  },
  {
   "cell_type": "code",
   "execution_count": 98,
   "id": "265df192",
   "metadata": {},
   "outputs": [
    {
     "name": "stdout",
     "output_type": "stream",
     "text": [
      "Willy wizard\n",
      "Klaraklarnamen\n",
      "Info\n",
      "Klaratank\n"
     ]
    }
   ],
   "source": [
    "emails = ['willy.wizard@schuler.de', 'KlaraKlarnamen@uni.de', 'info@Max-Mustermann.com', 'KlaraTank@gmail.com']\n",
    "\n",
    "# forEach schleife  vorname und nachname aus eine email ausgeben lassen und durch capitaliz erste  buschtabe Groß schreiben  \n",
    "\n",
    "for email in emails:\n",
    "    name = email.split('@')[0]\n",
    "    name = name.replace('.', ' ')\n",
    "    name = name.replace('-', ' ')\n",
    "    print(name.capitalize())"
   ]
  },
  {
   "cell_type": "code",
   "execution_count": 130,
   "id": "eed47d60",
   "metadata": {},
   "outputs": [
    {
     "name": "stdout",
     "output_type": "stream",
     "text": [
      "['willy.wizard', 'Klara Klarnamen', 'info', 'Klara Tank']\n"
     ]
    }
   ],
   "source": [
    "# between  Uppercase word add space  \n",
    "\n",
    "emails = ['willy.wizard@schuler.de', 'KlaraKlarnamen@uni.de', 'info@Max-Mustermann.com', 'KlaraTank@gmail.com']\n",
    "list = []\n",
    "\n",
    "for email in emails:\n",
    "    name = \"\"\n",
    "    for i, char in enumerate(email.split('@')[0]):\n",
    "        if i > 0 and char.isupper():\n",
    "            name += \" \"\n",
    "        name += char\n",
    "\n",
    "    list.append(name)\n",
    " \n",
    "print(list)"
   ]
  },
  {
   "cell_type": "markdown",
   "id": "26c8ed70",
   "metadata": {},
   "source": [
    "#### c.) Berechne: Wie viele Kunden gibt es im Online-Shop?\n",
    "\n",
    "Aktuell legen alle Kunden (`mail1`, `mail2`, `mail3`) als separate Variable vor. Wir möchten daraus jetzt eine Liste bauen, sodass wir die Möglichkeit hätten, später noch weitere Kunden in diese Liste hinzuzufügen.\n",
    "\n",
    "Überführe deswegen die Kunden `mail1`, `mail2` und `mail3` in die Liste `clients` und lasse dir anschließend die Anzahl der Elemente der Liste `clients` mit Hilfe von Python ausgeben."
   ]
  },
  {
   "cell_type": "code",
   "execution_count": 149,
   "id": "2cc778bc",
   "metadata": {},
   "outputs": [
    {
     "name": "stdout",
     "output_type": "stream",
     "text": [
      "['zarah.zauber@zauberberg.de', 'info@trixie-trickser.com', 'uwe_unhold@dunkelnetz.de']\n"
     ]
    }
   ],
   "source": [
    "mail1 = \"zarah.zauber@zauberberg.de\"\n",
    "mail2 = \"info@trixie-trickser.com\"\n",
    "mail3 = \"uwe_unhold@dunkelnetz.de\" \n",
    "\n",
    "clients = []\n",
    "# unser wariable  habe wir clients gennant  obwohle die name : groupe ,  passt besser wir haben clients benutzt.\n",
    "\n",
    "clients.append(mail1)\n",
    "clients.append(mail2)\n",
    "clients.append(mail3)\n",
    "\n",
    "\n",
    "print(clients)\n"
   ]
  },
  {
   "cell_type": "code",
   "execution_count": 150,
   "id": "b0b07bfc",
   "metadata": {},
   "outputs": [
    {
     "name": "stdout",
     "output_type": "stream",
     "text": [
      "3\n"
     ]
    }
   ],
   "source": [
    "print(len(group))"
   ]
  },
  {
   "cell_type": "markdown",
   "id": "9a361fff",
   "metadata": {},
   "source": [
    "#### d.) Eine Mailadresse aus Strings zusammenbauen\n",
    "\n",
    "Plötzlich fällt der Mathemagierin ein, dass in der Liste _clients_ noch ihr wichtigster Onlineshop-Kunde fehlt.\n",
    "Die Infos zu ihm wurden bei einem misslungenen Trick in zwei Teile zersägt \n",
    "und liegen seitdem in der Liste `[\"Buehnenzauberer\", \"magic.com\"]` herum. \n",
    "\n",
    "Rekonstruiere mit Hilfe von Python die Mailadresse des Kunden (da fehlt ein `@` zwischen \"Buehnenzauberer\" und \"magic.com\") \n",
    "und gebe sie aus, damit sich der Onlineshop-Kundendienst nach seinem Wohlbefinden erkundigen kann."
   ]
  },
  {
   "cell_type": "code",
   "execution_count": 164,
   "id": "736cc8e0",
   "metadata": {},
   "outputs": [
    {
     "name": "stdout",
     "output_type": "stream",
     "text": [
      "Buehnen.zauberer@magic.com\n",
      "feriahmadi@gmail.com\n"
     ]
    }
   ],
   "source": [
    "zauberer = [\"Buehnen.zauberer\", \"magic.com\"]\n",
    "\n",
    "print(\"@\".join(zauberer))\n",
    "\n",
    "vor_nach_name = [\"feriahmadi\", \"gmail.com\"]\n",
    "print(\"@\".join(vor_nach_name))\n",
    "\n"
   ]
  },
  {
   "cell_type": "markdown",
   "id": "1d0da1cf",
   "metadata": {},
   "source": [
    "# Section 4 \n",
    "\n",
    " schleifen  if, else,\n",
    "             for schleife ,\n",
    "              while schleife "
   ]
  },
  {
   "cell_type": "code",
   "execution_count": 183,
   "id": "7dfdbb6b",
   "metadata": {},
   "outputs": [],
   "source": [
    "if 6 < 5:\n",
    "    print(\"ja\")\n",
    "    "
   ]
  },
  {
   "cell_type": "code",
   "execution_count": 195,
   "id": "942133eb",
   "metadata": {},
   "outputs": [
    {
     "name": "stdout",
     "output_type": "stream",
     "text": [
      "False\n",
      "True\n",
      "True\n",
      "False\n"
     ]
    }
   ],
   "source": [
    "print(6 < 5)\n",
    "print(5 < 6)\n",
    "\n",
    "print( 5 <= 6)\n",
    "\n",
    "\n",
    "print(5 > 6 )"
   ]
  },
  {
   "cell_type": "code",
   "execution_count": 193,
   "id": "96d1eac1",
   "metadata": {},
   "outputs": [
    {
     "name": "stdout",
     "output_type": "stream",
     "text": [
      "u are not allowed to using this option! :(\n"
     ]
    }
   ],
   "source": [
    "age = 12\n",
    "\n",
    "if age < 18:\n",
    "    print(\"u are not allowed to using this option! :(\")\n",
    "    \n",
    "elif age >= 18 and age <49:\n",
    "    print(\"congratulations u can use this option :)\")\n",
    "    \n",
    "elif age == 50:\n",
    "    print(\"your are lucky you can use it this year option just this year! :)\")\n",
    "    \n",
    "else :\n",
    "    print(\"you are so old Man for using this option sorry! :(\")"
   ]
  },
  {
   "cell_type": "code",
   "execution_count": 196,
   "id": "a4ebf462",
   "metadata": {},
   "outputs": [
    {
     "name": "stdout",
     "output_type": "stream",
     "text": [
      "er ist  30 jahre alt\n"
     ]
    }
   ],
   "source": [
    "age = 35 \n",
    "if age >= 30 and  age <= 39:\n",
    "    print(\"er ist  30 jahre alt\")"
   ]
  },
  {
   "cell_type": "code",
   "execution_count": 207,
   "id": "22d755b3",
   "metadata": {},
   "outputs": [],
   "source": [
    "age = 35\n",
    "if age < 30 or age > 40:\n",
    "    print(\"er sit nicht in ihrem 30-ern\")"
   ]
  },
  {
   "cell_type": "code",
   "execution_count": 208,
   "id": "82be3797",
   "metadata": {},
   "outputs": [
    {
     "name": "stdout",
     "output_type": "stream",
     "text": [
      "True\n"
     ]
    }
   ],
   "source": [
    "# boolian  ergebnis muss mit Groß buchschtabe  geschrieben werden .\n",
    "\n",
    "r = True \n",
    "print(r)"
   ]
  },
  {
   "cell_type": "code",
   "execution_count": 209,
   "id": "8f2829ea",
   "metadata": {},
   "outputs": [
    {
     "name": "stdout",
     "output_type": "stream",
     "text": [
      "False\n"
     ]
    }
   ],
   "source": [
    "# boolian  ergebnis muss mit Groß buchschtabe  geschrieben werden .\n",
    "t = False \n",
    "print(t)"
   ]
  },
  {
   "cell_type": "code",
   "execution_count": 206,
   "id": "087a6a4c",
   "metadata": {},
   "outputs": [
    {
     "name": "stdout",
     "output_type": "stream",
     "text": [
      "True\n"
     ]
    }
   ],
   "source": [
    "above_30 = age >= 30\n",
    "print(above_30)"
   ]
  },
  {
   "cell_type": "code",
   "execution_count": 210,
   "id": "092df665",
   "metadata": {},
   "outputs": [
    {
     "name": "stdout",
     "output_type": "stream",
     "text": [
      "True\n",
      "if-Abfrage wurder ausgeführt\n"
     ]
    }
   ],
   "source": [
    "age = 24 \n",
    "\n",
    "above_20 = age >= 20\n",
    "print(above_20)\n",
    "\n",
    "if age >= 20:\n",
    "    print(\"if-Abfrage wurder ausgeführt\")\n"
   ]
  },
  {
   "cell_type": "code",
   "execution_count": 211,
   "id": "2dce0b9a",
   "metadata": {},
   "outputs": [
    {
     "name": "stdout",
     "output_type": "stream",
     "text": [
      "True\n",
      "False\n",
      "False\n",
      "False\n"
     ]
    }
   ],
   "source": [
    "print (True and True)\n",
    "print(True and False)\n",
    "print(False and True)\n",
    "print(False and  False)"
   ]
  },
  {
   "cell_type": "code",
   "execution_count": 212,
   "id": "42548e47",
   "metadata": {},
   "outputs": [
    {
     "name": "stdout",
     "output_type": "stream",
     "text": [
      "True\n",
      "True\n",
      "True\n",
      "False\n"
     ]
    }
   ],
   "source": [
    "print (True or True)\n",
    "print(True or False)\n",
    "print(False or True)\n",
    "print(False or  False)"
   ]
  },
  {
   "cell_type": "code",
   "execution_count": 221,
   "id": "fba126d9",
   "metadata": {},
   "outputs": [],
   "source": [
    "country = \"US\"\n",
    "age = 20\n",
    "\n",
    "if (country == \"US\" and age >= 21) or (country != \"US\" and age >= 18):\n",
    "    print(\"Er darf das film sehen  und getrenk trinken\")"
   ]
  },
  {
   "cell_type": "code",
   "execution_count": 223,
   "id": "6c4e9c8e",
   "metadata": {},
   "outputs": [],
   "source": [
    "if True and False:\n",
    "    print(\"h\")"
   ]
  },
  {
   "cell_type": "code",
   "execution_count": 224,
   "id": "b74cdcd8",
   "metadata": {},
   "outputs": [
    {
     "name": "stdout",
     "output_type": "stream",
     "text": [
      "h\n"
     ]
    }
   ],
   "source": [
    "if True or False:\n",
    "    print(\"h\")"
   ]
  },
  {
   "cell_type": "markdown",
   "id": "5df5b7e2",
   "metadata": {},
   "source": [
    "### vergleich operator"
   ]
  },
  {
   "cell_type": "code",
   "execution_count": 227,
   "id": "58048dd9",
   "metadata": {},
   "outputs": [
    {
     "name": "stdout",
     "output_type": "stream",
     "text": [
      "True\n",
      "False\n"
     ]
    }
   ],
   "source": [
    "studendts = [\"Max\", \"Monika\", \"Erik\", \"Franziska\"]\n",
    "\n",
    "print(\"Monika\" in students)\n",
    "\n",
    "print(\"Feri\" in students)"
   ]
  },
  {
   "cell_type": "code",
   "execution_count": 230,
   "id": "b57eb41c",
   "metadata": {},
   "outputs": [
    {
     "name": "stdout",
     "output_type": "stream",
     "text": [
      "ja, she/he is student\n",
      "Nein, Moritz studiert hier nicth\n"
     ]
    }
   ],
   "source": [
    "if \"Monika\" in students:\n",
    "    print(\"ja, she/he is student\")\n",
    "else:\n",
    "    print(\"Nein she/he isn't  student\")\n",
    "    \n",
    "if \"Moritz\" in students:\n",
    "    print(\"ja, one of the students \")\n",
    "else: \n",
    "    print(\"Nein, Moritz studiert hier nicth\")\n",
    "    \n",
    "    "
   ]
  },
  {
   "cell_type": "code",
   "execution_count": 235,
   "id": "f675a7f9",
   "metadata": {},
   "outputs": [
    {
     "name": "stdout",
     "output_type": "stream",
     "text": [
      "Nein\n"
     ]
    }
   ],
   "source": [
    "# Übrigens : das klappt auch auf string!wenn wir suchen nach bestimmte  buchschtabe \n",
    "\n",
    "sentence = \" ja , die monika studiert hier!\"\n",
    "\n",
    "if \"!\" in sentence :\n",
    "    print(\"ja\")\n",
    "else:\n",
    "    print(\"Nein\")\n",
    "    "
   ]
  },
  {
   "cell_type": "code",
   "execution_count": null,
   "id": "6b38c461",
   "metadata": {},
   "outputs": [],
   "source": []
  }
 ],
 "metadata": {
  "kernelspec": {
   "display_name": "Python 3 (ipykernel)",
   "language": "python",
   "name": "python3"
  },
  "language_info": {
   "codemirror_mode": {
    "name": "ipython",
    "version": 3
   },
   "file_extension": ".py",
   "mimetype": "text/x-python",
   "name": "python",
   "nbconvert_exporter": "python",
   "pygments_lexer": "ipython3",
   "version": "3.9.13"
  }
 },
 "nbformat": 4,
 "nbformat_minor": 5
}
