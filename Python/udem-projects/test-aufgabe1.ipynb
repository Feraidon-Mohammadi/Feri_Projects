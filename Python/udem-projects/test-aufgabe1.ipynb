{
 "cells": [
  {
   "cell_type": "code",
   "execution_count": null,
   "id": "10d183d0",
   "metadata": {},
   "outputs": [],
   "source": [
    "password_hash = \"3186f52004c995a86ab85e1e5692555d\"\n",
    "pass_hash = \"93083ec666c9f3db044bb7c381640227\" \n"
   ]
  },
  {
   "cell_type": "code",
   "execution_count": 3,
   "id": "a9d4773b",
   "metadata": {
    "scrolled": true
   },
   "outputs": [
    {
     "ename": "NameError",
     "evalue": "name 'password_hash' is not defined",
     "output_type": "error",
     "traceback": [
      "\u001b[1;31m---------------------------------------------------------------------------\u001b[0m",
      "\u001b[1;31mNameError\u001b[0m                                 Traceback (most recent call last)",
      "\u001b[1;32m~\\AppData\\Local\\Temp\\ipykernel_82564\\3093662170.py\u001b[0m in \u001b[0;36m<module>\u001b[1;34m\u001b[0m\n\u001b[0;32m     12\u001b[0m             \u001b[0mw\u001b[0m \u001b[1;33m=\u001b[0m \u001b[0mword\u001b[0m \u001b[1;33m+\u001b[0m \u001b[0mchar\u001b[0m\u001b[1;33m\u001b[0m\u001b[1;33m\u001b[0m\u001b[0m\n\u001b[0;32m     13\u001b[0m \u001b[1;33m\u001b[0m\u001b[0m\n\u001b[1;32m---> 14\u001b[1;33m             \u001b[1;32mif\u001b[0m \u001b[0mhashlib\u001b[0m\u001b[1;33m.\u001b[0m\u001b[0mmd5\u001b[0m\u001b[1;33m(\u001b[0m\u001b[0mw\u001b[0m\u001b[1;33m.\u001b[0m\u001b[0mencode\u001b[0m\u001b[1;33m(\u001b[0m\u001b[1;33m)\u001b[0m\u001b[1;33m)\u001b[0m\u001b[1;33m.\u001b[0m\u001b[0mhexdigest\u001b[0m\u001b[1;33m(\u001b[0m\u001b[1;33m)\u001b[0m \u001b[1;33m==\u001b[0m \u001b[0mpassword_hash\u001b[0m\u001b[1;33m:\u001b[0m\u001b[1;33m\u001b[0m\u001b[1;33m\u001b[0m\u001b[0m\n\u001b[0m\u001b[0;32m     15\u001b[0m                 \u001b[0mprint\u001b[0m\u001b[1;33m(\u001b[0m\u001b[0mword\u001b[0m \u001b[1;33m+\u001b[0m \u001b[0mchar\u001b[0m\u001b[1;33m)\u001b[0m\u001b[1;33m\u001b[0m\u001b[1;33m\u001b[0m\u001b[0m\n\u001b[0;32m     16\u001b[0m \u001b[1;33m\u001b[0m\u001b[0m\n",
      "\u001b[1;31mNameError\u001b[0m: name 'password_hash' is not defined"
     ]
    }
   ],
   "source": [
    "#%%timeit -r 10 -n 1\n",
    "\n",
    "import hashlib\n",
    "\n",
    "extra_chars = \"!$%&/()=?@\"\n",
    "\n",
    "with open(\"../udemy-python-security/hashtest/dictionary.txt\", \"r\") as file:\n",
    "    for line in file: #lese die datei zeile für zeile durch\n",
    "        word = line.strip() #hole das wort\n",
    "        \n",
    "        for char in extra_chars:\n",
    "            w = word + char\n",
    "            \n",
    "            if hashlib.md5(w.encode()).hexdigest() == password_hash:\n",
    "                print(word + char)\n",
    "\n",
    "print(\"program beendet!\")"
   ]
  },
  {
   "cell_type": "code",
   "execution_count": 5,
   "id": "9399b6fa",
   "metadata": {},
   "outputs": [],
   "source": [
    "password_hash = \"3186f52004c995a86ab85e1e5692555d\""
   ]
  },
  {
   "cell_type": "code",
   "execution_count": 2,
   "id": "6cdb7e01",
   "metadata": {},
   "outputs": [
    {
     "ename": "SyntaxError",
     "evalue": "invalid syntax (2582184554.py, line 12)",
     "output_type": "error",
     "traceback": [
      "\u001b[1;36m  File \u001b[1;32m\"C:\\Users\\ferey\\AppData\\Local\\Temp\\ipykernel_71016\\2582184554.py\"\u001b[1;36m, line \u001b[1;32m12\u001b[0m\n\u001b[1;33m    if hashlib.md5(w.encode()).hexdigest() == password_hash : 93083ec666c9f3db044bb7c381640227\u001b[0m\n\u001b[1;37m                                                                   ^\u001b[0m\n\u001b[1;31mSyntaxError\u001b[0m\u001b[1;31m:\u001b[0m invalid syntax\n"
     ]
    }
   ],
   "source": [
    "import hashlib\n",
    "\n",
    "extra_chars = \"!$%&/()=?@\"\n",
    "\n",
    "with open(\"../udemy-python-security/hashtest/dictionary.txt\", \"r\") as file:\n",
    "    for line in file: #lese die datei zeile für zeile durch\n",
    "        word = line.strip() #hole das wort\n",
    "        \n",
    "        for char in extra_chars:\n",
    "            w = word + char\n",
    "            \n",
    "            if hashlib.md5(w.encode()).hexdigest() == password_hash : 93083ec666c9f3db044bb7c381640227\n",
    "                print(word + char)\n",
    "\n",
    "print(\"program beendet!\")"
   ]
  },
  {
   "cell_type": "code",
   "execution_count": null,
   "id": "2c91b75f",
   "metadata": {},
   "outputs": [],
   "source": []
  }
 ],
 "metadata": {
  "kernelspec": {
   "display_name": "Python 3 (ipykernel)",
   "language": "python",
   "name": "python3"
  },
  "language_info": {
   "codemirror_mode": {
    "name": "ipython",
    "version": 3
   },
   "file_extension": ".py",
   "mimetype": "text/x-python",
   "name": "python",
   "nbconvert_exporter": "python",
   "pygments_lexer": "ipython3",
   "version": "3.9.13"
  }
 },
 "nbformat": 4,
 "nbformat_minor": 5
}
