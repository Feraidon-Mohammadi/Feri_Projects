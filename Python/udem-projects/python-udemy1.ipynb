{
 "cells": [
  {
   "cell_type": "code",
   "execution_count": 3,
   "id": "8eb32dc3",
   "metadata": {},
   "outputs": [
    {
     "name": "stdout",
     "output_type": "stream",
     "text": [
      "Hallo Welt\n"
     ]
    }
   ],
   "source": [
    "print(\"Hallo Welt\")"
   ]
  },
  {
   "cell_type": "markdown",
   "id": "9c5dac8d",
   "metadata": {},
   "source": [
    "ich bin ein Textkommentar"
   ]
  },
  {
   "cell_type": "code",
   "execution_count": 6,
   "id": "d1ec58c7",
   "metadata": {
    "scrolled": false
   },
   "outputs": [
    {
     "name": "stdout",
     "output_type": "stream",
     "text": [
      "Hallo Welt\n"
     ]
    }
   ],
   "source": [
    "s = \"Hallo Welt\"\n",
    "print(s)"
   ]
  },
  {
   "cell_type": "code",
   "execution_count": 7,
   "id": "be231dd2",
   "metadata": {},
   "outputs": [
    {
     "name": "stdout",
     "output_type": "stream",
     "text": [
      "15.5\n"
     ]
    }
   ],
   "source": [
    "f = 15.5\n",
    "print(f)"
   ]
  },
  {
   "cell_type": "code",
   "execution_count": 9,
   "id": "dff7254b",
   "metadata": {},
   "outputs": [
    {
     "name": "stdout",
     "output_type": "stream",
     "text": [
      "Hallo Welt\n"
     ]
    }
   ],
   "source": [
    "print(\"Hallo\" + \" \" + \"Welt\")"
   ]
  },
  {
   "cell_type": "code",
   "execution_count": 10,
   "id": "eb6d88d7",
   "metadata": {},
   "outputs": [
    {
     "name": "stdout",
     "output_type": "stream",
     "text": [
      "29\n"
     ]
    }
   ],
   "source": [
    "print(14 + 0 + 15)"
   ]
  },
  {
   "cell_type": "code",
   "execution_count": 11,
   "id": "6a108c59",
   "metadata": {},
   "outputs": [
    {
     "name": "stdout",
     "output_type": "stream",
     "text": [
      "Hallo15\n"
     ]
    }
   ],
   "source": [
    "print(\"Hallo\" + str(15))"
   ]
  },
  {
   "cell_type": "code",
   "execution_count": 12,
   "id": "6d5ffbeb",
   "metadata": {},
   "outputs": [
    {
     "name": "stdout",
     "output_type": "stream",
     "text": [
      "Hallo15\n"
     ]
    }
   ],
   "source": [
    "zahl = 15 \n",
    "print(\"Hallo\" + str(zahl))"
   ]
  },
  {
   "cell_type": "markdown",
   "id": "e80cfc3a",
   "metadata": {},
   "source": [
    "## part 2 python ##"
   ]
  },
  {
   "cell_type": "code",
   "execution_count": 13,
   "id": "c5ed37d8",
   "metadata": {},
   "outputs": [
    {
     "name": "stdout",
     "output_type": "stream",
     "text": [
      "['Max', 'Monika', 'Erik', 'Laura']\n"
     ]
    }
   ],
   "source": [
    "list = [\"Max\", \"Monika\", \"Erik\", \"Laura\"]\n",
    "print(list)"
   ]
  },
  {
   "cell_type": "code",
   "execution_count": 14,
   "id": "8809c9b5",
   "metadata": {},
   "outputs": [
    {
     "name": "stdout",
     "output_type": "stream",
     "text": [
      "4\n"
     ]
    }
   ],
   "source": [
    "print(len(list))"
   ]
  },
  {
   "cell_type": "code",
   "execution_count": 15,
   "id": "c8335398",
   "metadata": {},
   "outputs": [],
   "source": [
    "list.append(\"Moritz\")"
   ]
  },
  {
   "cell_type": "code",
   "execution_count": 16,
   "id": "d15449e7",
   "metadata": {},
   "outputs": [
    {
     "name": "stdout",
     "output_type": "stream",
     "text": [
      "['Max', 'Monika', 'Erik', 'Laura', 'Moritz']\n"
     ]
    }
   ],
   "source": [
    "print(list)"
   ]
  },
  {
   "cell_type": "markdown",
   "id": "5476ab49",
   "metadata": {},
   "source": [
    "# for schleife mit eine liste"
   ]
  },
  {
   "cell_type": "code",
   "execution_count": 17,
   "id": "cb068a56",
   "metadata": {},
   "outputs": [
    {
     "name": "stdout",
     "output_type": "stream",
     "text": [
      "Max\n",
      "Monika\n",
      "Erik\n",
      "Laura\n",
      "Moritz\n"
     ]
    }
   ],
   "source": [
    "for element in list :\n",
    "    print(element)"
   ]
  },
  {
   "cell_type": "code",
   "execution_count": 20,
   "id": "1e934eda",
   "metadata": {},
   "outputs": [
    {
     "name": "stdout",
     "output_type": "stream",
     "text": [
      "['ich', 'bin', 'der', 'satz']\n"
     ]
    }
   ],
   "source": [
    "sentence = \"ich bin der satz\"\n",
    "print(sentence.split(\" \"))"
   ]
  },
  {
   "cell_type": "code",
   "execution_count": 21,
   "id": "aeba3bfd",
   "metadata": {},
   "outputs": [
    {
     "name": "stdout",
     "output_type": "stream",
     "text": [
      "ich bin eine Liste\n"
     ]
    }
   ],
   "source": [
    "sentence_list = [\"ich\", \"bin\", \"eine\", \"Liste\"]\n",
    "print(\" \".join(sentence_list))"
   ]
  },
  {
   "cell_type": "markdown",
   "id": "7d0e5854",
   "metadata": {},
   "source": [
    "## for schleife mit string buchstaben"
   ]
  },
  {
   "cell_type": "code",
   "execution_count": 22,
   "id": "efe6791e",
   "metadata": {},
   "outputs": [
    {
     "name": "stdout",
     "output_type": "stream",
     "text": [
      "H\n",
      "a\n",
      "l\n",
      "l\n",
      "o\n"
     ]
    }
   ],
   "source": [
    "for c in \"Hallo\":\n",
    "    print(c)"
   ]
  },
  {
   "cell_type": "code",
   "execution_count": 24,
   "id": "80b3f4c3",
   "metadata": {},
   "outputs": [
    {
     "name": "stdout",
     "output_type": "stream",
     "text": [
      "H\n",
      "a\n",
      "l\n",
      "l\n",
      "o\n"
     ]
    }
   ],
   "source": [
    "for a in \"Hallo\":\n",
    "    print(a)"
   ]
  },
  {
   "cell_type": "markdown",
   "id": "08f2c20c",
   "metadata": {},
   "source": [
    "### part 3 python crashcode##"
   ]
  },
  {
   "cell_type": "code",
   "execution_count": 26,
   "id": "e89ccecb",
   "metadata": {},
   "outputs": [
    {
     "data": {
      "text/plain": [
       "'Hallo Welt'"
      ]
     },
     "execution_count": 26,
     "metadata": {},
     "output_type": "execute_result"
    }
   ],
   "source": [
    "\"Hallo Welt\"\n",
    "\"Hallo Welt\""
   ]
  },
  {
   "cell_type": "code",
   "execution_count": 27,
   "id": "cf22550a",
   "metadata": {},
   "outputs": [
    {
     "name": "stdout",
     "output_type": "stream",
     "text": [
      "Hallo Welt\n"
     ]
    }
   ],
   "source": [
    "print(\"Hallo Welt\")"
   ]
  },
  {
   "cell_type": "code",
   "execution_count": 28,
   "id": "6c6220e6",
   "metadata": {},
   "outputs": [
    {
     "name": "stdout",
     "output_type": "stream",
     "text": [
      "b'Hallo Welt'\n"
     ]
    }
   ],
   "source": [
    "print(b\"Hallo Welt\")"
   ]
  },
  {
   "cell_type": "code",
   "execution_count": 29,
   "id": "c2e6ea4b",
   "metadata": {},
   "outputs": [
    {
     "name": "stdout",
     "output_type": "stream",
     "text": [
      "b'Hallo Welt'\n"
     ]
    }
   ],
   "source": [
    "print(\"Hallo Welt\".encode())"
   ]
  },
  {
   "cell_type": "code",
   "execution_count": 33,
   "id": "fe41bb17",
   "metadata": {},
   "outputs": [
    {
     "name": "stdout",
     "output_type": "stream",
     "text": [
      "s hat den wert welt\n",
      "Ich werde immer ausgeführt\n"
     ]
    }
   ],
   "source": [
    "s = \"welt\"\n",
    "if s == \"welt\":\n",
    "    print(\"s hat den wert welt\")\n",
    "    \n",
    "print(\"Ich werde immer ausgeführt\")"
   ]
  },
  {
   "cell_type": "code",
   "execution_count": 32,
   "id": "8f60da4e",
   "metadata": {},
   "outputs": [
    {
     "name": "stdout",
     "output_type": "stream",
     "text": [
      "Ich werde immer ausgeführt\n"
     ]
    }
   ],
   "source": [
    "s = \"welt!\"\n",
    "if s == \"welt\":\n",
    "    print(\"s hat den wert welt\")\n",
    "    \n",
    "print(\"Ich werde immer ausgeführt\")"
   ]
  },
  {
   "cell_type": "markdown",
   "id": "82399e20",
   "metadata": {},
   "source": [
    "# python 1 in praxis"
   ]
  },
  {
   "cell_type": "code",
   "execution_count": 35,
   "id": "787e97ed",
   "metadata": {},
   "outputs": [],
   "source": [
    "password_hash = \"93083ec666c9f3db044bb7c381640227\""
   ]
  },
  {
   "cell_type": "code",
   "execution_count": 1,
   "id": "83f61f30",
   "metadata": {},
   "outputs": [
    {
     "data": {
      "text/plain": [
       "'5c372a32c9ae748a4c040ebadc51a829'"
      ]
     },
     "execution_count": 1,
     "metadata": {},
     "output_type": "execute_result"
    }
   ],
   "source": [
    "import hashlib \n",
    "\n",
    "hashlib.md5(\"Hallo Welt\".encode()).hexdigest()"
   ]
  },
  {
   "cell_type": "markdown",
   "id": "d58a69b9",
   "metadata": {},
   "source": [
    "##### lese die datei zeile für zeile ein:"
   ]
  },
  {
   "cell_type": "code",
   "execution_count": 2,
   "id": "87fc30cc",
   "metadata": {},
   "outputs": [
    {
     "name": "stdout",
     "output_type": "stream",
     "text": [
      "9e083ec666c9f3db044bb7c381640227\n",
      "\n"
     ]
    }
   ],
   "source": [
    "with open(\"../udemy-python-security/hashtest/dictionary.txt\", \"r\") as file:\n",
    "    for line in file:\n",
    "        print(line)\n",
    "        break"
   ]
  },
  {
   "cell_type": "code",
   "execution_count": 3,
   "id": "eb4f0762",
   "metadata": {
    "scrolled": true
   },
   "outputs": [
    {
     "name": "stdout",
     "output_type": "stream",
     "text": [
      "9e083ec666c9f3db044bb7c381640227\n"
     ]
    }
   ],
   "source": [
    "with open(\"../udemy-python-security/hashtest/dictionary.txt\", \"r\") as file:\n",
    "    for line in file:\n",
    "        word = line.strip()\n",
    "        \n",
    "        print(word)\n",
    "        break"
   ]
  },
  {
   "cell_type": "code",
   "execution_count": null,
   "id": "74a1dec5",
   "metadata": {},
   "outputs": [],
   "source": []
  },
  {
   "cell_type": "markdown",
   "id": "76119d9a",
   "metadata": {},
   "source": [
    "  das ist ein komment:  if hashlib.md5(word.encode()).hexdigit() == \"93083ec666c9f3db044bb7c381640227\""
   ]
  },
  {
   "cell_type": "markdown",
   "id": "2e136f93",
   "metadata": {},
   "source": [
    "#http://wordnet.princeton.edu hier findet man dictionary of the  code "
   ]
  },
  {
   "cell_type": "code",
   "execution_count": 4,
   "id": "3a1327a8",
   "metadata": {},
   "outputs": [
    {
     "name": "stdout",
     "output_type": "stream",
     "text": [
      "Hallo\n",
      "\n"
     ]
    }
   ],
   "source": [
    "print(\"Hallo\\n\")"
   ]
  },
  {
   "cell_type": "code",
   "execution_count": 5,
   "id": "00b32aa2",
   "metadata": {
    "scrolled": true
   },
   "outputs": [
    {
     "name": "stdout",
     "output_type": "stream",
     "text": [
      "9eaf19b15a280928d405802e267d0803\n"
     ]
    }
   ],
   "source": [
    "import hashlib\n",
    "\n",
    "with open(\"../udemy-python-security/hashtest/zweite.txt\", \"r\") as file:\n",
    "    for line in file:\n",
    "        word = line.strip()\n",
    "        \n",
    "        print(hashlib.md5(word.encode()).hexdigest())\n",
    "        break\n",
    "        "
   ]
  },
  {
   "cell_type": "code",
   "execution_count": 11,
   "id": "e7638f74",
   "metadata": {},
   "outputs": [
    {
     "name": "stdout",
     "output_type": "stream",
     "text": [
      "$imulation\n",
      "program beendet!\n"
     ]
    }
   ],
   "source": [
    "import hashlib\n",
    "\n",
    "with open(\"../udemy-python-security/hashtest/dictionary.txt\", \"r\") as file:\n",
    "    for line in file:\n",
    "        word = line.strip()\n",
    "        \n",
    "        if hashlib.md5(word.encode()).hexdigest() == \"9eaf19b15a280928d405802e267d0803\":\n",
    "            print(word)\n",
    "          \n",
    "\n",
    "print(\"program beendet!\")\n",
    "        "
   ]
  },
  {
   "cell_type": "markdown",
   "id": "db7bf1d4",
   "metadata": {},
   "source": [
    "## ### aufgabe pasword knacken "
   ]
  },
  {
   "cell_type": "code",
   "execution_count": 7,
   "id": "abe83ccb",
   "metadata": {},
   "outputs": [],
   "source": [
    "password_hash = \"3186f52004c995a86ab85e1e5692555d\""
   ]
  },
  {
   "cell_type": "code",
   "execution_count": 2,
   "id": "fdd4a93f",
   "metadata": {},
   "outputs": [
    {
     "ename": "NameError",
     "evalue": "name 'password_hash' is not defined",
     "output_type": "error",
     "traceback": [
      "\u001b[1;31m---------------------------------------------------------------------------\u001b[0m",
      "\u001b[1;31mNameError\u001b[0m                                 Traceback (most recent call last)",
      "\u001b[1;32m~\\AppData\\Local\\Temp\\ipykernel_21664\\1953877909.py\u001b[0m in \u001b[0;36m<module>\u001b[1;34m\u001b[0m\n\u001b[0;32m     12\u001b[0m             \u001b[0mw\u001b[0m \u001b[1;33m=\u001b[0m \u001b[0mword\u001b[0m \u001b[1;33m+\u001b[0m \u001b[0mchar\u001b[0m\u001b[1;33m\u001b[0m\u001b[1;33m\u001b[0m\u001b[0m\n\u001b[0;32m     13\u001b[0m \u001b[1;33m\u001b[0m\u001b[0m\n\u001b[1;32m---> 14\u001b[1;33m             \u001b[1;32mif\u001b[0m \u001b[0mhashlib\u001b[0m\u001b[1;33m.\u001b[0m\u001b[0mmd5\u001b[0m\u001b[1;33m(\u001b[0m\u001b[0mw\u001b[0m\u001b[1;33m.\u001b[0m\u001b[0mencode\u001b[0m\u001b[1;33m(\u001b[0m\u001b[1;33m)\u001b[0m\u001b[1;33m)\u001b[0m\u001b[1;33m.\u001b[0m\u001b[0mhexdigest\u001b[0m\u001b[1;33m(\u001b[0m\u001b[1;33m)\u001b[0m \u001b[1;33m==\u001b[0m \u001b[0mpassword_hash\u001b[0m\u001b[1;33m:\u001b[0m\u001b[1;33m\u001b[0m\u001b[1;33m\u001b[0m\u001b[0m\n\u001b[0m\u001b[0;32m     15\u001b[0m                 \u001b[0mprint\u001b[0m\u001b[1;33m(\u001b[0m\u001b[0mword\u001b[0m \u001b[1;33m+\u001b[0m \u001b[0mchar\u001b[0m\u001b[1;33m)\u001b[0m\u001b[1;33m\u001b[0m\u001b[1;33m\u001b[0m\u001b[0m\n\u001b[0;32m     16\u001b[0m \u001b[1;33m\u001b[0m\u001b[0m\n",
      "\u001b[1;31mNameError\u001b[0m: name 'password_hash' is not defined"
     ]
    }
   ],
   "source": [
    "# %%timeit -r 10 -n 1\n",
    "\n",
    "import hashlib\n",
    "\n",
    "extra_chars = \"!$%&/()=?0@\"\n",
    "\n",
    "with open(\"../udemy-python-security/hashtest/dictionary.txt\", \"r\") as file:\n",
    "    for line in file: #lese die datei zeile für zeile durch\n",
    "        word = line.strip() #hole das wort\n",
    "        \n",
    "        for char in extra_chars:\n",
    "            w = word + char\n",
    "            \n",
    "            if hashlib.md5(w.encode()).hexdigest() == password_hash:\n",
    "                print(word + char)\n",
    "\n",
    "print(\"program beendet!\")\n"
   ]
  },
  {
   "cell_type": "code",
   "execution_count": null,
   "id": "1023bd1d",
   "metadata": {},
   "outputs": [],
   "source": []
  }
 ],
 "metadata": {
  "kernelspec": {
   "display_name": "Python 3 (ipykernel)",
   "language": "python",
   "name": "python3"
  },
  "language_info": {
   "codemirror_mode": {
    "name": "ipython",
    "version": 3
   },
   "file_extension": ".py",
   "mimetype": "text/x-python",
   "name": "python",
   "nbconvert_exporter": "python",
   "pygments_lexer": "ipython3",
   "version": "3.9.13"
  }
 },
 "nbformat": 4,
 "nbformat_minor": 5
}
